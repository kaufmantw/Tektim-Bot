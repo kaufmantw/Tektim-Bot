{
 "cells": [
  {
   "cell_type": "markdown",
   "metadata": {},
   "source": [
    "<h1 style=\"text-align: center;\">Tektim Chatbot Model and Exploration</h3>"
   ]
  },
  {
   "cell_type": "markdown",
   "metadata": {},
   "source": [
    "import pandas as pd\n",
    "\n",
    "Raw data needed for preprocessing\n",
    "\n",
    "1. Input: what prompted my message\n",
    "\n",
    "2. Response: my message\n",
    "\n",
    "3. Other features: other things that could influence my response\n",
    "\n",
    "      - time of day\n",
    "\n",
    "      - user\n",
    "\n",
    "      - which server its in\n",
    "    \n",
    "    \n",
    "Note: Due to dataset size it may be not in my best interest to make it too complex"
   ]
  },
  {
   "cell_type": "code",
   "execution_count": 3,
   "metadata": {},
   "outputs": [],
   "source": [
    "#imports\n",
    "import pandas as pd"
   ]
  },
  {
   "cell_type": "code",
   "execution_count": 4,
   "metadata": {},
   "outputs": [
    {
     "name": "stdout",
     "output_type": "stream",
     "text": [
      "  userName          content                      date\n",
      "0     tigm  raise-exception  2024-07-28T14:38:26.157Z\n",
      "1     tigm  raise-exception  2024-07-28T14:37:51.019Z\n",
      "2     tigm              uwu  2024-07-28T14:37:11.813Z\n",
      "3     tigm              owo  2024-07-28T14:37:01.345Z\n",
      "4     tigm  raise-exception  2024-07-28T14:36:37.884Z\n"
     ]
    }
   ],
   "source": [
    "df = pd.read_csv('data/test_sheet.csv')\n",
    "df = df[['userName', 'content','date']]\n",
    "print(df.head(5))"
   ]
  }
 ],
 "metadata": {
  "kernelspec": {
   "display_name": "Python 3",
   "language": "python",
   "name": "python3"
  },
  "language_info": {
   "codemirror_mode": {
    "name": "ipython",
    "version": 3
   },
   "file_extension": ".py",
   "mimetype": "text/x-python",
   "name": "python",
   "nbconvert_exporter": "python",
   "pygments_lexer": "ipython3",
   "version": "3.12.2"
  }
 },
 "nbformat": 4,
 "nbformat_minor": 2
}
