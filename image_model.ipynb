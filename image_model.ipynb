{
 "cells": [
  {
   "cell_type": "markdown",
   "metadata": {},
   "source": [
    "<h1 style=\"text-align: center;\">Tektim Image Classification Model</h3>"
   ]
  },
  {
   "cell_type": "code",
   "execution_count": 2,
   "metadata": {},
   "outputs": [],
   "source": [
    "import pandas as pd"
   ]
  },
  {
   "cell_type": "code",
   "execution_count": 35,
   "metadata": {},
   "outputs": [
    {
     "data": {
      "text/html": [
       "<div>\n",
       "<style scoped>\n",
       "    .dataframe tbody tr th:only-of-type {\n",
       "        vertical-align: middle;\n",
       "    }\n",
       "\n",
       "    .dataframe tbody tr th {\n",
       "        vertical-align: top;\n",
       "    }\n",
       "\n",
       "    .dataframe thead th {\n",
       "        text-align: right;\n",
       "    }\n",
       "</style>\n",
       "<table border=\"1\" class=\"dataframe\">\n",
       "  <thead>\n",
       "    <tr style=\"text-align: right;\">\n",
       "      <th></th>\n",
       "      <th>0</th>\n",
       "      <th>1</th>\n",
       "      <th>2</th>\n",
       "      <th>3</th>\n",
       "      <th>4</th>\n",
       "      <th>5</th>\n",
       "      <th>6</th>\n",
       "      <th>7</th>\n",
       "      <th>8</th>\n",
       "      <th>9</th>\n",
       "      <th>...</th>\n",
       "      <th>891</th>\n",
       "      <th>892</th>\n",
       "      <th>893</th>\n",
       "      <th>894</th>\n",
       "      <th>895</th>\n",
       "      <th>896</th>\n",
       "      <th>897</th>\n",
       "      <th>898</th>\n",
       "      <th>899</th>\n",
       "      <th>900</th>\n",
       "    </tr>\n",
       "  </thead>\n",
       "  <tbody>\n",
       "    <tr>\n",
       "      <th>0</th>\n",
       "      <td>0.169582</td>\n",
       "      <td>0.208281</td>\n",
       "      <td>0.247578</td>\n",
       "      <td>1.0</td>\n",
       "      <td>0.164918</td>\n",
       "      <td>0.223843</td>\n",
       "      <td>0.277944</td>\n",
       "      <td>1.0</td>\n",
       "      <td>0.156603</td>\n",
       "      <td>0.206822</td>\n",
       "      <td>...</td>\n",
       "      <td>1.0</td>\n",
       "      <td>0.276238</td>\n",
       "      <td>0.275373</td>\n",
       "      <td>0.226089</td>\n",
       "      <td>1.0</td>\n",
       "      <td>0.336667</td>\n",
       "      <td>0.326347</td>\n",
       "      <td>0.265558</td>\n",
       "      <td>1.0</td>\n",
       "      <td>funny</td>\n",
       "    </tr>\n",
       "    <tr>\n",
       "      <th>1</th>\n",
       "      <td>0.390112</td>\n",
       "      <td>0.389882</td>\n",
       "      <td>0.389787</td>\n",
       "      <td>1.0</td>\n",
       "      <td>0.905091</td>\n",
       "      <td>0.903488</td>\n",
       "      <td>0.903547</td>\n",
       "      <td>1.0</td>\n",
       "      <td>0.938212</td>\n",
       "      <td>0.937401</td>\n",
       "      <td>...</td>\n",
       "      <td>1.0</td>\n",
       "      <td>0.983210</td>\n",
       "      <td>0.983210</td>\n",
       "      <td>0.983210</td>\n",
       "      <td>1.0</td>\n",
       "      <td>0.983210</td>\n",
       "      <td>0.983210</td>\n",
       "      <td>0.983210</td>\n",
       "      <td>1.0</td>\n",
       "      <td>funny</td>\n",
       "    </tr>\n",
       "    <tr>\n",
       "      <th>2</th>\n",
       "      <td>0.137016</td>\n",
       "      <td>0.137016</td>\n",
       "      <td>0.137016</td>\n",
       "      <td>1.0</td>\n",
       "      <td>0.137017</td>\n",
       "      <td>0.137017</td>\n",
       "      <td>0.137017</td>\n",
       "      <td>1.0</td>\n",
       "      <td>0.137020</td>\n",
       "      <td>0.137020</td>\n",
       "      <td>...</td>\n",
       "      <td>1.0</td>\n",
       "      <td>0.125490</td>\n",
       "      <td>0.125490</td>\n",
       "      <td>0.125490</td>\n",
       "      <td>1.0</td>\n",
       "      <td>0.125490</td>\n",
       "      <td>0.125490</td>\n",
       "      <td>0.125490</td>\n",
       "      <td>1.0</td>\n",
       "      <td>funny</td>\n",
       "    </tr>\n",
       "  </tbody>\n",
       "</table>\n",
       "<p>3 rows × 901 columns</p>\n",
       "</div>"
      ],
      "text/plain": [
       "        0         1         2    3         4         5         6    7    \\\n",
       "0  0.169582  0.208281  0.247578  1.0  0.164918  0.223843  0.277944  1.0   \n",
       "1  0.390112  0.389882  0.389787  1.0  0.905091  0.903488  0.903547  1.0   \n",
       "2  0.137016  0.137016  0.137016  1.0  0.137017  0.137017  0.137017  1.0   \n",
       "\n",
       "        8         9    ...  891       892       893       894  895       896  \\\n",
       "0  0.156603  0.206822  ...  1.0  0.276238  0.275373  0.226089  1.0  0.336667   \n",
       "1  0.938212  0.937401  ...  1.0  0.983210  0.983210  0.983210  1.0  0.983210   \n",
       "2  0.137020  0.137020  ...  1.0  0.125490  0.125490  0.125490  1.0  0.125490   \n",
       "\n",
       "        897       898  899    900  \n",
       "0  0.326347  0.265558  1.0  funny  \n",
       "1  0.983210  0.983210  1.0  funny  \n",
       "2  0.125490  0.125490  1.0  funny  \n",
       "\n",
       "[3 rows x 901 columns]"
      ]
     },
     "execution_count": 35,
     "metadata": {},
     "output_type": "execute_result"
    }
   ],
   "source": [
    "df = pd.read_csv(\"C:\\\\Users\\\\timka\\\\Documents\\\\code\\\\python\\\\Tektim-Bot\\\\data\\\\spreadsheets\\\\pic_test.csv\", header=None)\n",
    "df"
   ]
  },
  {
   "cell_type": "markdown",
   "metadata": {},
   "source": [
    "Need to check CSV line by line to see if there are values missing or being misinterpreted"
   ]
  },
  {
   "cell_type": "code",
   "execution_count": 31,
   "metadata": {},
   "outputs": [
    {
     "name": "stdout",
     "output_type": "stream",
     "text": [
      "{901: 50, 676: 16}\n"
     ]
    }
   ],
   "source": [
    "import csv\n",
    "\n",
    "try:\n",
    "    # Open the CSV file\n",
    "    with open('C:\\\\Users\\\\timka\\\\Documents\\\\code\\\\python\\\\Tektim-Bot\\\\data\\\\spreadsheets\\\\pic_test.csv', mode='r', newline='') as file:\n",
    "        # Create a CSV reader object\n",
    "        csv_reader = csv.reader(file)\n",
    "        \n",
    "        counts = {}\n",
    "        # Iterate through each row in the CSV file\n",
    "        for row in csv_reader:\n",
    "            # Process each row\n",
    "            if len(row) in counts:\n",
    "                counts[len(row)] = counts[len(row)] + 1\n",
    "            else:\n",
    "                counts[len(row)] = 0\n",
    "        \n",
    "        print(counts)\n",
    "        \n",
    "except FileNotFoundError:\n",
    "    print(\"The file was not found.\")\n",
    "except csv.Error as e:\n",
    "    print(f\"Error reading CSV file: {e}\")"
   ]
  },
  {
   "cell_type": "markdown",
   "metadata": {},
   "source": [
    "There are 2 missing entries; the entry sizes do not line up with png/jpeg splits"
   ]
  },
  {
   "cell_type": "code",
   "execution_count": null,
   "metadata": {},
   "outputs": [],
   "source": []
  }
 ],
 "metadata": {
  "kernelspec": {
   "display_name": "Python 3",
   "language": "python",
   "name": "python3"
  },
  "language_info": {
   "codemirror_mode": {
    "name": "ipython",
    "version": 3
   },
   "file_extension": ".py",
   "mimetype": "text/x-python",
   "name": "python",
   "nbconvert_exporter": "python",
   "pygments_lexer": "ipython3",
   "version": "3.12.0"
  }
 },
 "nbformat": 4,
 "nbformat_minor": 2
}
