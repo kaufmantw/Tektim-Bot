{
 "cells": [
  {
   "cell_type": "markdown",
   "metadata": {},
   "source": [
    "<h1 style=\"text-align: center;\">Tektim Image Classification Model</h3>"
   ]
  },
  {
   "cell_type": "code",
   "execution_count": 2,
   "metadata": {},
   "outputs": [],
   "source": [
    "import pandas as pd"
   ]
  },
  {
   "cell_type": "code",
   "execution_count": 48,
   "metadata": {},
   "outputs": [
    {
     "data": {
      "text/plain": [
       "(46, 901)"
      ]
     },
     "execution_count": 48,
     "metadata": {},
     "output_type": "execute_result"
    }
   ],
   "source": [
    "df = pd.read_csv(\"C:\\\\Users\\\\timka\\\\Documents\\\\code\\\\python\\\\Tektim-Bot\\\\data\\\\spreadsheets\\\\pic_test.csv\", header=None)\n",
    "df.shape"
   ]
  },
  {
   "cell_type": "markdown",
   "metadata": {},
   "source": [
    "Need to check CSV line by line to see if there are values missing or being misinterpreted"
   ]
  },
  {
   "cell_type": "code",
   "execution_count": 43,
   "metadata": {},
   "outputs": [
    {
     "name": "stdout",
     "output_type": "stream",
     "text": [
      "{901: 46}\n"
     ]
    }
   ],
   "source": [
    "import csv\n",
    "\n",
    "try:\n",
    "    # Open the CSV file\n",
    "    with open('C:\\\\Users\\\\timka\\\\Documents\\\\code\\\\python\\\\Tektim-Bot\\\\data\\\\spreadsheets\\\\pic_test.csv', mode='r', newline='') as file:\n",
    "        # Create a CSV reader object\n",
    "        csv_reader = csv.reader(file)\n",
    "        \n",
    "        counts = {}\n",
    "        # Iterate through each row in the CSV file\n",
    "        for row in csv_reader:\n",
    "            # Process each row\n",
    "            if len(row) in counts:\n",
    "                counts[len(row)] = counts[len(row)] + 1\n",
    "            else:\n",
    "                counts[len(row)] = 1\n",
    "        \n",
    "        print(counts)\n",
    "        \n",
    "except FileNotFoundError:\n",
    "    print(\"The file was not found.\")\n",
    "except csv.Error as e:\n",
    "    print(f\"Error reading CSV file: {e}\")"
   ]
  },
  {
   "cell_type": "markdown",
   "metadata": {},
   "source": [
    "There are 2 missing entries; the entry sizes do not line up with png/jpeg splits"
   ]
  },
  {
   "cell_type": "code",
   "execution_count": null,
   "metadata": {},
   "outputs": [],
   "source": []
  }
 ],
 "metadata": {
  "kernelspec": {
   "display_name": "Python 3",
   "language": "python",
   "name": "python3"
  },
  "language_info": {
   "codemirror_mode": {
    "name": "ipython",
    "version": 3
   },
   "file_extension": ".py",
   "mimetype": "text/x-python",
   "name": "python",
   "nbconvert_exporter": "python",
   "pygments_lexer": "ipython3",
   "version": "3.12.0"
  }
 },
 "nbformat": 4,
 "nbformat_minor": 2
}
