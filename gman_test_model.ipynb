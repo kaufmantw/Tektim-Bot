{
 "cells": [
  {
   "cell_type": "code",
   "execution_count": 1,
   "metadata": {},
   "outputs": [
    {
     "name": "stderr",
     "output_type": "stream",
     "text": [
      "c:\\Users\\timka\\anaconda3\\envs\\tektim_model\\lib\\site-packages\\scipy\\__init__.py:146: UserWarning: A NumPy version >=1.16.5 and <1.23.0 is required for this version of SciPy (detected version 1.23.5\n",
      "  warnings.warn(f\"A NumPy version >={np_minversion} and <{np_maxversion}\"\n"
     ]
    }
   ],
   "source": [
    "import PIL\n",
    "import os\n",
    "import tensorflow as tf\n",
    "import numpy as np\n",
    "import pandas\n",
    "from skimage.io import imread\n",
    "from tensorflow.keras import layers, Input, models\n",
    "from tensorflow.keras.models import Sequential\n",
    "from tensorflow.keras.optimizers import Adam\n",
    "import zipfile"
   ]
  },
  {
   "cell_type": "code",
   "execution_count": 10,
   "metadata": {},
   "outputs": [],
   "source": [
    "directory_path = 'data/images/training_data'"
   ]
  },
  {
   "cell_type": "code",
   "execution_count": 11,
   "metadata": {},
   "outputs": [
    {
     "name": "stdout",
     "output_type": "stream",
     "text": [
      "Found 3164 files belonging to 3 classes.\n",
      "Using 2532 files for training.\n"
     ]
    }
   ],
   "source": [
    "train_ds = tf.keras.preprocessing.image_dataset_from_directory(\n",
    "    directory_path,\n",
    "    image_size=(256, 256),  # Resize images to 256x256\n",
    "    batch_size=32,  # Number of images to return in each batch\n",
    "    label_mode='categorical',  # Can be 'int', 'categorical', or 'binary'\n",
    "    validation_split=0.2,\n",
    "    subset='training',\n",
    "    seed=42\n",
    ")"
   ]
  },
  {
   "cell_type": "code",
   "execution_count": 12,
   "metadata": {},
   "outputs": [
    {
     "name": "stdout",
     "output_type": "stream",
     "text": [
      "Found 3164 files belonging to 3 classes.\n",
      "Using 632 files for validation.\n"
     ]
    }
   ],
   "source": [
    "test_ds = tf.keras.preprocessing.image_dataset_from_directory(\n",
    "    directory_path,\n",
    "    image_size=(256, 256),  # Resize images to 256x256\n",
    "    batch_size=32,  # Number of images to return in each batch\n",
    "    label_mode='categorical',  # Can be 'int', 'categorical', or 'binary'\n",
    "    validation_split=0.2,\n",
    "    subset='validation',\n",
    "    seed=42\n",
    ")"
   ]
  },
  {
   "cell_type": "code",
   "execution_count": 13,
   "metadata": {},
   "outputs": [],
   "source": [
    "class_names = train_ds.class_names"
   ]
  },
  {
   "cell_type": "code",
   "execution_count": 20,
   "metadata": {},
   "outputs": [
    {
     "data": {
      "text/plain": [
       "['data\\\\models\\\\class_names.pkl']"
      ]
     },
     "execution_count": 20,
     "metadata": {},
     "output_type": "execute_result"
    }
   ],
   "source": [
    "import joblib\n",
    "\n",
    "joblib.dump(class_names, 'data\\models\\class_names.pkl')"
   ]
  },
  {
   "cell_type": "code",
   "execution_count": 7,
   "metadata": {},
   "outputs": [
    {
     "data": {
      "text/plain": [
       "'2.14.0'"
      ]
     },
     "execution_count": 7,
     "metadata": {},
     "output_type": "execute_result"
    }
   ],
   "source": [
    "tf.__version__"
   ]
  },
  {
   "cell_type": "code",
   "execution_count": 8,
   "metadata": {},
   "outputs": [],
   "source": [
    "resnet_model = Sequential()\n",
    "\n",
    "pretrained_model = tf.keras.applications.ResNet50(\n",
    "    include_top=False,\n",
    "    input_shape=(256,256,3),\n",
    "    pooling='avg',\n",
    "    classes=3\n",
    ")\n",
    " \n",
    "for layer in pretrained_model.layers:\n",
    "    layer.trainable = False\n",
    "    \n",
    "resnet_model.add(pretrained_model)\n",
    "#resnet_model.add(layers.Flatten())\n",
    "resnet_model.add(layers.Dense(512, activation='relu'))\n",
    "resnet_model.add(layers.Dense(3, activation='softmax'))"
   ]
  },
  {
   "cell_type": "code",
   "execution_count": 9,
   "metadata": {},
   "outputs": [],
   "source": [
    "resnet_model.compile(\n",
    "    optimizer=Adam(learning_rate=0.001),\n",
    "    loss='categorical_crossentropy',\n",
    "    metrics=['accuracy']\n",
    ")"
   ]
  },
  {
   "cell_type": "code",
   "execution_count": 10,
   "metadata": {},
   "outputs": [
    {
     "name": "stdout",
     "output_type": "stream",
     "text": [
      "Epoch 1/10\n",
      "80/80 [==============================] - 187s 2s/step - loss: 0.7194 - accuracy: 0.7903 - val_loss: 0.4555 - val_accuracy: 0.8291\n",
      "Epoch 2/10\n",
      "80/80 [==============================] - 187s 2s/step - loss: 0.4151 - accuracy: 0.8448 - val_loss: 0.4214 - val_accuracy: 0.8766\n",
      "Epoch 3/10\n",
      "80/80 [==============================] - 188s 2s/step - loss: 0.3370 - accuracy: 0.8843 - val_loss: 0.4202 - val_accuracy: 0.8766\n",
      "Epoch 4/10\n",
      "80/80 [==============================] - 186s 2s/step - loss: 0.2905 - accuracy: 0.8989 - val_loss: 0.4719 - val_accuracy: 0.8592\n",
      "Epoch 5/10\n",
      "80/80 [==============================] - 187s 2s/step - loss: 0.2378 - accuracy: 0.9147 - val_loss: 0.4553 - val_accuracy: 0.8766\n",
      "Epoch 6/10\n",
      "80/80 [==============================] - 192s 2s/step - loss: 0.1983 - accuracy: 0.9269 - val_loss: 0.5202 - val_accuracy: 0.8576\n",
      "Epoch 7/10\n",
      "80/80 [==============================] - 187s 2s/step - loss: 0.1583 - accuracy: 0.9419 - val_loss: 0.5310 - val_accuracy: 0.8513\n",
      "Epoch 8/10\n",
      "80/80 [==============================] - 189s 2s/step - loss: 0.1431 - accuracy: 0.9502 - val_loss: 0.5782 - val_accuracy: 0.8386\n",
      "Epoch 9/10\n",
      "80/80 [==============================] - 194s 2s/step - loss: 0.1179 - accuracy: 0.9573 - val_loss: 0.5768 - val_accuracy: 0.8434\n",
      "Epoch 10/10\n",
      "80/80 [==============================] - 197s 2s/step - loss: 0.1039 - accuracy: 0.9696 - val_loss: 0.6829 - val_accuracy: 0.8592\n"
     ]
    },
    {
     "data": {
      "text/plain": [
       "<keras.src.callbacks.History at 0x20ab3ead490>"
      ]
     },
     "execution_count": 10,
     "metadata": {},
     "output_type": "execute_result"
    }
   ],
   "source": [
    "resnet_model.fit(train_ds,\n",
    "                 validation_data=test_ds,\n",
    "                 epochs=10)"
   ]
  },
  {
   "cell_type": "code",
   "execution_count": 11,
   "metadata": {},
   "outputs": [
    {
     "ename": "AttributeError",
     "evalue": "module 'tensorflow.keras' has no attribute '__version__'",
     "output_type": "error",
     "traceback": [
      "\u001b[1;31m---------------------------------------------------------------------------\u001b[0m",
      "\u001b[1;31mAttributeError\u001b[0m                            Traceback (most recent call last)",
      "Cell \u001b[1;32mIn[11], line 1\u001b[0m\n\u001b[1;32m----> 1\u001b[0m tf\u001b[38;5;241m.\u001b[39m__version__, \u001b[43mtf\u001b[49m\u001b[38;5;241;43m.\u001b[39;49m\u001b[43mkeras\u001b[49m\u001b[38;5;241;43m.\u001b[39;49m\u001b[43m__version__\u001b[49m\n",
      "\u001b[1;31mAttributeError\u001b[0m: module 'tensorflow.keras' has no attribute '__version__'"
     ]
    }
   ],
   "source": [
    "tf.__version__, tf.keras.__version__"
   ]
  },
  {
   "cell_type": "code",
   "execution_count": 12,
   "metadata": {},
   "outputs": [
    {
     "name": "stdout",
     "output_type": "stream",
     "text": [
      "Model: \"sequential\"\n",
      "_________________________________________________________________\n",
      " Layer (type)                Output Shape              Param #   \n",
      "=================================================================\n",
      " resnet50 (Functional)       (None, 2048)              23587712  \n",
      "                                                                 \n",
      " dense (Dense)               (None, 512)               1049088   \n",
      "                                                                 \n",
      " dense_1 (Dense)             (None, 3)                 1539      \n",
      "                                                                 \n",
      "=================================================================\n",
      "Total params: 24638339 (93.99 MB)\n",
      "Trainable params: 1050627 (4.01 MB)\n",
      "Non-trainable params: 23587712 (89.98 MB)\n",
      "_________________________________________________________________\n"
     ]
    }
   ],
   "source": [
    "resnet_model.summary()"
   ]
  },
  {
   "cell_type": "code",
   "execution_count": 13,
   "metadata": {},
   "outputs": [
    {
     "data": {
      "text/plain": [
       "(None, 256, 256, 3)"
      ]
     },
     "execution_count": 13,
     "metadata": {},
     "output_type": "execute_result"
    }
   ],
   "source": [
    "resnet_model.input_shape"
   ]
  },
  {
   "cell_type": "code",
   "execution_count": 2,
   "metadata": {},
   "outputs": [],
   "source": [
    "# check if trained raw model exists\n",
    "if not os.path.exists('data/models/raw/resnet.keras'):\n",
    "    # if zipped model doesnt exist as well, train the model and save raw model and zip raw model\n",
    "    if not os.path.exists('data/models/zipped/resnet_zip.zip'):\n",
    "        history = resnet_model.fit(\n",
    "            train_ds,\n",
    "            validation_data=test_ds,\n",
    "            epochs=10\n",
    "        )\n",
    "        # saving the model\n",
    "        resnet_model.save('data/models/raw/resnet.keras')\n",
    "        # zipping the model\n",
    "        with zipfile.ZipFile('data/models/zipped/resnet_zip.zip', 'w', zipfile.ZIP_DEFLATED) as zip:\n",
    "            zip.write('data/models/raw/resnet.keras')\n",
    "    # otherwise, zip exists and can unzip the model\n",
    "    else:\n",
    "        with zipfile.ZipFile('data/models/zipped/resnet_zip.zip', 'r') as zip:\n",
    "            for file_info in zip.infolist():\n",
    "                if file_info.filename.endswith('resnet.keras'):\n",
    "                    file_info.filename = os.path.basename(file_info.filename) # extract only the filename\n",
    "                    zip.extract(file_info, 'data/models/raw')\n",
    "# load the trained model\n",
    "imported_model = tf.keras.models.load_model('data/models/raw/resnet.keras')"
   ]
  },
  {
   "cell_type": "code",
   "execution_count": 3,
   "metadata": {},
   "outputs": [],
   "source": [
    "from tensorflow.keras.preprocessing import image"
   ]
  },
  {
   "cell_type": "code",
   "execution_count": 14,
   "metadata": {},
   "outputs": [],
   "source": [
    "img = image.load_img('data\\\\images\\\\live_input\\\\image.png', target_size=(256, 256))\n",
    "img_arr = image.img_to_array(img)\n",
    "img_arr = np.expand_dims(img_arr, axis=0)"
   ]
  },
  {
   "cell_type": "code",
   "execution_count": 15,
   "metadata": {},
   "outputs": [
    {
     "data": {
      "image/png": "[encoded data removed]",
      "text/plain": [
       "<PIL.Image.Image image mode=RGB size=256x256 at 0x26A9CD90FD0>"
      ]
     },
     "execution_count": 15,
     "metadata": {},
     "output_type": "execute_result"
    }
   ],
   "source": [
    "img"
   ]
  },
  {
   "cell_type": "code",
   "execution_count": 16,
   "metadata": {},
   "outputs": [
    {
     "name": "stdout",
     "output_type": "stream",
     "text": [
      "1/1 [==============================] - 0s 81ms/step\n"
     ]
    }
   ],
   "source": [
    "preds = imported_model.predict(img_arr)"
   ]
  },
  {
   "cell_type": "code",
   "execution_count": 18,
   "metadata": {},
   "outputs": [
    {
     "data": {
      "text/plain": [
       "array([[8.6924396e-05, 4.3808496e-01, 5.6182808e-01]], dtype=float32)"
      ]
     },
     "execution_count": 18,
     "metadata": {},
     "output_type": "execute_result"
    }
   ],
   "source": [
    "preds"
   ]
  },
  {
   "cell_type": "code",
   "execution_count": 17,
   "metadata": {},
   "outputs": [
    {
     "name": "stdout",
     "output_type": "stream",
     "text": [
      "Predicted class is neutral\n"
     ]
    }
   ],
   "source": [
    "print('Predicted class is', class_names[np.argmax(preds)])"
   ]
  }
 ],
 "metadata": {
  "kernelspec": {
   "display_name": "tektim_model",
   "language": "python",
   "name": "python3"
  },
  "language_info": {
   "codemirror_mode": {
    "name": "ipython",
    "version": 3
   },
   "file_extension": ".py",
   "mimetype": "text/x-python",
   "name": "python",
   "nbconvert_exporter": "python",
   "pygments_lexer": "ipython3",
   "version": "3.9.12"
  }
 },
 "nbformat": 4,
 "nbformat_minor": 4
}
